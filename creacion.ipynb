{
 "cells": [
  {
   "cell_type": "markdown",
   "metadata": {},
   "source": [
    "## **Data Preprocessing**"
   ]
  },
  {
   "cell_type": "code",
   "execution_count": 1,
   "metadata": {},
   "outputs": [],
   "source": [
    "from Bio import SeqIO\n",
    "from Bio.Seq import Seq, MutableSeq\n",
    "from BCBio import GFF\n",
    "import pandas as pd\n",
    "import re\n",
    "from collections import Counter\n",
    "import numpy as np\n",
    "import pickle\n",
    "import json\n",
    "from tqdm import tqdm"
   ]
  },
  {
   "cell_type": "code",
   "execution_count": 2,
   "metadata": {},
   "outputs": [
    {
     "name": "stdout",
     "output_type": "stream",
     "text": [
      "NC22Error en la secuencia NC_000023.11 Homo sapiens chromosome X, GRCh38.p14 Primary Assembly\n",
      "NC61Error en la secuencia NC_000024.10 Homo sapiens chromosome Y, GRCh38.p14 Primary Assembly\n",
      "NC62Error en la secuencia NC_012920.1 Homo sapiens mitochondrion, complete genome\n",
      "NC704"
     ]
    }
   ],
   "source": [
    "fasta_file = \"GCF_000001405.40_GRCh38.p14_genomic.fna\"\n",
    "sequences = {}\n",
    "pattern = re.compile(r\"chromosome (\\d+)\")\n",
    "cant_seq = 0\n",
    "with open(fasta_file, \"r\") as file:\n",
    "    for record in SeqIO.parse(file, \"fasta\"):\n",
    "        if record.description[:2] == \"NC\":\n",
    "            try: \n",
    "                n_crom = pattern.search(record.description).group(1)\n",
    "            except:\n",
    "                print(f\"Error en la secuencia {record.description}\")\n",
    "                n_crom = cant_seq\n",
    "            print(f\"\\rNC{n_crom}\", end=\"\")\n",
    "            sequences[f\"NC{n_crom}\"] = record.seq\n",
    "        cant_seq += 1\n",
    "\n",
    "\n",
    "sequences['NCX'] = sequences.pop('NC61') # Cromosoma X\n",
    "sequences['NCY'] = sequences.pop('NC62') # Cromosoma Y\n",
    "sequences['NCM'] = sequences.pop('NC704') # Mitocondria"
   ]
  },
  {
   "cell_type": "code",
   "execution_count": 58,
   "metadata": {},
   "outputs": [],
   "source": [
    "uniques = {}\n",
    "for cromosome, seq in sequences.items():\n",
    "    uniques[cromosome] = list(set(seq))"
   ]
  },
  {
   "cell_type": "code",
   "execution_count": 59,
   "metadata": {},
   "outputs": [
    {
     "data": {
      "text/plain": [
       "[]"
      ]
     },
     "execution_count": 59,
     "metadata": {},
     "output_type": "execute_result"
    }
   ],
   "source": [
    "uniques_all = set()\n",
    "for values in uniques.values():\n",
    "    uniques_all.update(values)\n",
    "uniques_all = list(uniques_all)\n",
    "states = ['A', 'C', 'G', 'T']\n",
    "to_delete = [x for x in uniques_all if x.upper() not in states]\n",
    "to_delete"
   ]
  },
  {
   "cell_type": "code",
   "execution_count": null,
   "metadata": {},
   "outputs": [],
   "source": [
    "for key, value in tqdm(sequences.items()):\n",
    "    value = MutableSeq(value)\n",
    "    for nucleotid in to_delete:\n",
    "        value.replace(nucleotid, '', inplace=True)\n",
    "    sequences[key] = Seq(value)"
   ]
  },
  {
   "cell_type": "code",
   "execution_count": 61,
   "metadata": {},
   "outputs": [],
   "source": [
    "pickle.dump(sequences, open(\"sequences.pkl\", \"wb\"))"
   ]
  },
  {
   "cell_type": "markdown",
   "metadata": {},
   "source": [
    "## **Creation of the Transition and Emission Matrices**"
   ]
  },
  {
   "cell_type": "code",
   "execution_count": 3,
   "metadata": {},
   "outputs": [],
   "source": [
    "sequences = pickle.load(open(\"sequences.pkl\", \"rb\"))"
   ]
  },
  {
   "cell_type": "code",
   "execution_count": 4,
   "metadata": {},
   "outputs": [
    {
     "data": {
      "text/plain": [
       "{'NC1': Seq('taaccctaaccctaaccctaaccctaaccctaaccctaaccctaaccctaaccc...ggg'),\n",
       " 'NC2': Seq('CGTAtcccacacaccacacccacacaccacacccacacacacccacacccacac...tag'),\n",
       " 'NC3': Seq('ctaaccctaaccctaaccctaaccctaaccctaaccctaaccctaaccctcacc...TTC'),\n",
       " 'NC4': Seq('accctaaccctaaccctaaccctaaccctaaccctaccctaaccctaaccctta...tag'),\n",
       " 'NC5': Seq('taaccctaaccctaaccctaaccctaaccctaaccctaaccctaaccctaaccc...ATC'),\n",
       " 'NC6': Seq('GATCTTATATAACTGTGAGATTAATCTCAGATAATGACACAAAATATAGTGAAG...ATC'),\n",
       " 'NC7': Seq('ctaaccctaaccctaaccctaaccctaaccctaaccctaaccctaaccctaacc...ggg'),\n",
       " 'NC8': Seq('GCAATtatgacacaaaaaattaaacagtgcaGACTgatatataaatcaaaacaa...ata'),\n",
       " 'NC9': Seq('taaccctaaccctaaccctaacccaaccccaccccaaccccaaccccaacccaa...TTC'),\n",
       " 'NC10': Seq('ctaaccctaaccctaaccctaaccctaaccctaaccctaaccctaaccctaacc...ggg'),\n",
       " 'NC11': Seq('GAATtctacattagaaaaataaaccataGCCTCATCACAGGCACTTAAATACAC...tag'),\n",
       " 'NC12': Seq('ctaaccctaaccctaaccctaaccctaaccctaaccctaaccctaaccctaacc...tag'),\n",
       " 'NC13': Seq('agcattctgagaaattactttgtgatgtgtgcattcatcacaaagagttgaacc...tag'),\n",
       " 'NC14': Seq('agcattctgagaaattactttgtgatgtgtgcattcatcacaaagagttgaacc...CTC'),\n",
       " 'NC15': Seq('CTCACACAGAGCTgacctttctttttatggagcagtattgaaacgctctttttg...tta'),\n",
       " 'NC16': Seq('taaccctaaccctaaccctaaccctaaccctaaccgaccctcaccctcacccta...atc'),\n",
       " 'NC17': Seq('GATCATGCAGCTCTTCCAGGCCCACTGCTTCTTCCTGTCCACTAGGCCACAGCC...ggt'),\n",
       " 'NC18': Seq('ccctaaccctaaccctaacccttacccctaaccctaaccctaaccctaacccta...tag'),\n",
       " 'NC19': Seq('GATCACAGAGGCTGGGCTGCTCCCCACCCTCTGCACACCTCCTGCTTCTAACAG...gtt'),\n",
       " 'NC20': Seq('TGTTCAGTCGGGCAGGGAGTGGGAATAGACAAGACCACAAGCAGCTTGGTGCCT...ATC'),\n",
       " 'NC21': Seq('gatccacccgccttggcctcctaaagtgctgggattacaggtgttagccaccac...ggg'),\n",
       " 'NC22': Seq('GAATTCTTGTGTTTATATAATAAGATGTCCTATAATTTCTGTTTGGAATATAAA...tta'),\n",
       " 'NCX': Seq('ctaaccctaaccctaaccctaaccctaaccctaaccctctGAAAGTGGACctat...ggt'),\n",
       " 'NCY': Seq('ctaaccctaaccctaaccctaaccctaaccctaaccctctGAAAGTGGACctat...ggt'),\n",
       " 'NCM': Seq('GATCACAGGTCTATCACCCTATTAACCACTCACGGGAGCTCTCCATGCATTTGG...ATG')}"
      ]
     },
     "execution_count": 4,
     "metadata": {},
     "output_type": "execute_result"
    }
   ],
   "source": [
    "hidden_states = [\"Exon\", \"Intron\"]\n",
    "sequences"
   ]
  },
  {
   "cell_type": "markdown",
   "metadata": {},
   "source": [
    "## **Viterbi Algorithm**"
   ]
  },
  {
   "cell_type": "code",
   "execution_count": null,
   "metadata": {},
   "outputs": [],
   "source": [
    "\n",
    "def Viterbi(A, B, pi, observados, states):\n",
    "    # A: matriz de transición de la cadena de Markov oculta\n",
    "    # B: matriz de emisión\n",
    "    # pi: distribución inicial de la cadena de Markov\n",
    "    # observados: lista de valores observados\n",
    "    # states: lista de estados ocultos\n",
    "    # retorna la lista de valores no observados más probable\n",
    "\n",
    "    num_obs = len(observados)\n",
    "    num_states = len(A)\n",
    "\n",
    "    # Matrices para almacenar las probabilidades y los caminos\n",
    "    m = np.zeros((num_obs, num_states), dtype=np.float64)\n",
    "    path = np.zeros((num_obs, num_states), dtype=int)\n",
    "\n",
    "    # Inicialización\n",
    "    for i in range(num_states):\n",
    "        m[0][i] = pi[i] * B[i][observados[0]]\n",
    "        path[0][i] = 0\n",
    "\n",
    "    # Recursión\n",
    "    for t in range(1, num_obs):\n",
    "        for i in range(num_states):\n",
    "            max_prob = -1\n",
    "            for j in range(num_states):\n",
    "                prob = m[t-1][j] * A[j][i] * B[i][observados[t]]\n",
    "                if prob > max_prob:\n",
    "                    max_prob = prob\n",
    "                    path[t][i] = j\n",
    "            m[t][i] = max_prob\n",
    "\n",
    "    # Construcción del camino más probable\n",
    "    max_seq = []\n",
    "    last_state = np.argmax(m[num_obs-1])\n",
    "    for t in range(num_obs-1, -1, -1):\n",
    "        max_seq.insert(0, states[last_state])\n",
    "        last_state = path[t][last_state]\n",
    "\n",
    "    return max_seq\n",
    "\n",
    "A = np.array([[0.7, 0.3], [0.4, 0.6]])\n",
    "B = np.array([[0.1, 0.4, 0.5], [0.7, 0.2, 0.1]])\n",
    "pi = np.array([0.6, 0.4])\n",
    "obs = np.array([0, 1, 0, 1])\n",
    "states = [\"H\", \"C\"]\n",
    "print(Viterbi(A, B, pi, obs, states))"
   ]
  }
 ],
 "metadata": {
  "kernelspec": {
   "display_name": "estocasticos",
   "language": "python",
   "name": "python3"
  },
  "language_info": {
   "codemirror_mode": {
    "name": "ipython",
    "version": 3
   },
   "file_extension": ".py",
   "mimetype": "text/x-python",
   "name": "python",
   "nbconvert_exporter": "python",
   "pygments_lexer": "ipython3",
   "version": "3.12.4"
  }
 },
 "nbformat": 4,
 "nbformat_minor": 2
}
